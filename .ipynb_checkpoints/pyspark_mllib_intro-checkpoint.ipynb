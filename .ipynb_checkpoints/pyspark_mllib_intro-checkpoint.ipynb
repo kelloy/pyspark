{
 "cells": [
  {
   "cell_type": "code",
   "execution_count": 1,
   "id": "dc5d2e14",
   "metadata": {},
   "outputs": [],
   "source": [
    "import pyspark\n",
    "import pandas as pd"
   ]
  },
  {
   "cell_type": "code",
   "execution_count": 2,
   "id": "c6076e94",
   "metadata": {},
   "outputs": [],
   "source": [
    "titanic_df = pd.read_csv('./train.csv')"
   ]
  },
  {
   "cell_type": "code",
   "execution_count": 3,
   "id": "ebc93cd1",
   "metadata": {},
   "outputs": [],
   "source": [
    "from pyspark.sql import SparkSession"
   ]
  },
  {
   "cell_type": "code",
   "execution_count": 4,
   "id": "cfd37f29",
   "metadata": {},
   "outputs": [],
   "source": [
    "import findspark\n",
    "findspark.init()\n",
    "\n",
    "import pyspark # only run after findspark.init()\n",
    "from pyspark.sql import SparkSession\n",
    "spark = SparkSession.builder.config(\"spark.driver.host\",\"localhost\").appName('pysparktest').getOrCreate()"
   ]
  },
  {
   "cell_type": "code",
   "execution_count": 5,
   "id": "0194efb8",
   "metadata": {},
   "outputs": [
    {
     "data": {
      "text/html": [
       "\n",
       "            <div>\n",
       "                <p><b>SparkSession - in-memory</b></p>\n",
       "                \n",
       "        <div>\n",
       "            <p><b>SparkContext</b></p>\n",
       "\n",
       "            <p><a href=\"http://localhost:4040\">Spark UI</a></p>\n",
       "\n",
       "            <dl>\n",
       "              <dt>Version</dt>\n",
       "                <dd><code>v3.3.1</code></dd>\n",
       "              <dt>Master</dt>\n",
       "                <dd><code>local[*]</code></dd>\n",
       "              <dt>AppName</dt>\n",
       "                <dd><code>pysparktest</code></dd>\n",
       "            </dl>\n",
       "        </div>\n",
       "        \n",
       "            </div>\n",
       "        "
      ],
      "text/plain": [
       "<pyspark.sql.session.SparkSession at 0x14f8904e1d0>"
      ]
     },
     "execution_count": 5,
     "metadata": {},
     "output_type": "execute_result"
    }
   ],
   "source": [
    "spark"
   ]
  },
  {
   "cell_type": "code",
   "execution_count": 6,
   "id": "9e585ba0",
   "metadata": {},
   "outputs": [],
   "source": [
    "df_pyspark = spark.read.option('header','true').csv(\"./train.csv\")"
   ]
  },
  {
   "cell_type": "code",
   "execution_count": 7,
   "id": "c5c41480",
   "metadata": {},
   "outputs": [
    {
     "name": "stdout",
     "output_type": "stream",
     "text": [
      "root\n",
      " |-- PassengerId: string (nullable = true)\n",
      " |-- Survived: string (nullable = true)\n",
      " |-- Pclass: string (nullable = true)\n",
      " |-- Name: string (nullable = true)\n",
      " |-- Sex: string (nullable = true)\n",
      " |-- Age: string (nullable = true)\n",
      " |-- SibSp: string (nullable = true)\n",
      " |-- Parch: string (nullable = true)\n",
      " |-- Ticket: string (nullable = true)\n",
      " |-- Fare: string (nullable = true)\n",
      " |-- Cabin: string (nullable = true)\n",
      " |-- Embarked: string (nullable = true)\n",
      "\n"
     ]
    }
   ],
   "source": [
    "df_pyspark = df_pyspark.printSchema()"
   ]
  },
  {
   "cell_type": "code",
   "execution_count": 51,
   "id": "c6c96368",
   "metadata": {},
   "outputs": [],
   "source": [
    "df_pyspark = spark.read.csv('./train.csv',header=True,inferSchema = True)"
   ]
  },
  {
   "cell_type": "code",
   "execution_count": 9,
   "id": "695dcbe9",
   "metadata": {},
   "outputs": [
    {
     "name": "stdout",
     "output_type": "stream",
     "text": [
      "+-----------+--------+------+--------------------+------+----+-----+-----+----------------+-------+-----+--------+\n",
      "|PassengerId|Survived|Pclass|                Name|   Sex| Age|SibSp|Parch|          Ticket|   Fare|Cabin|Embarked|\n",
      "+-----------+--------+------+--------------------+------+----+-----+-----+----------------+-------+-----+--------+\n",
      "|          1|       0|     3|Braund, Mr. Owen ...|  male|22.0|    1|    0|       A/5 21171|   7.25| null|       S|\n",
      "|          2|       1|     1|Cumings, Mrs. Joh...|female|38.0|    1|    0|        PC 17599|71.2833|  C85|       C|\n",
      "|          3|       1|     3|Heikkinen, Miss. ...|female|26.0|    0|    0|STON/O2. 3101282|  7.925| null|       S|\n",
      "|          4|       1|     1|Futrelle, Mrs. Ja...|female|35.0|    1|    0|          113803|   53.1| C123|       S|\n",
      "|          5|       0|     3|Allen, Mr. Willia...|  male|35.0|    0|    0|          373450|   8.05| null|       S|\n",
      "|          6|       0|     3|    Moran, Mr. James|  male|null|    0|    0|          330877| 8.4583| null|       Q|\n",
      "|          7|       0|     1|McCarthy, Mr. Tim...|  male|54.0|    0|    0|           17463|51.8625|  E46|       S|\n",
      "|          8|       0|     3|Palsson, Master. ...|  male| 2.0|    3|    1|          349909| 21.075| null|       S|\n",
      "|          9|       1|     3|Johnson, Mrs. Osc...|female|27.0|    0|    2|          347742|11.1333| null|       S|\n",
      "|         10|       1|     2|Nasser, Mrs. Nich...|female|14.0|    1|    0|          237736|30.0708| null|       C|\n",
      "|         11|       1|     3|Sandstrom, Miss. ...|female| 4.0|    1|    1|         PP 9549|   16.7|   G6|       S|\n",
      "|         12|       1|     1|Bonnell, Miss. El...|female|58.0|    0|    0|          113783|  26.55| C103|       S|\n",
      "|         13|       0|     3|Saundercock, Mr. ...|  male|20.0|    0|    0|       A/5. 2151|   8.05| null|       S|\n",
      "|         14|       0|     3|Andersson, Mr. An...|  male|39.0|    1|    5|          347082| 31.275| null|       S|\n",
      "|         15|       0|     3|Vestrom, Miss. Hu...|female|14.0|    0|    0|          350406| 7.8542| null|       S|\n",
      "|         16|       1|     2|Hewlett, Mrs. (Ma...|female|55.0|    0|    0|          248706|   16.0| null|       S|\n",
      "|         17|       0|     3|Rice, Master. Eugene|  male| 2.0|    4|    1|          382652| 29.125| null|       Q|\n",
      "|         18|       1|     2|Williams, Mr. Cha...|  male|null|    0|    0|          244373|   13.0| null|       S|\n",
      "|         19|       0|     3|Vander Planke, Mr...|female|31.0|    1|    0|          345763|   18.0| null|       S|\n",
      "|         20|       1|     3|Masselmani, Mrs. ...|female|null|    0|    0|            2649|  7.225| null|       C|\n",
      "+-----------+--------+------+--------------------+------+----+-----+-----+----------------+-------+-----+--------+\n",
      "only showing top 20 rows\n",
      "\n"
     ]
    }
   ],
   "source": [
    "df_pyspark.show()"
   ]
  },
  {
   "cell_type": "code",
   "execution_count": 10,
   "id": "9765d891",
   "metadata": {},
   "outputs": [
    {
     "name": "stdout",
     "output_type": "stream",
     "text": [
      "root\n",
      " |-- PassengerId: integer (nullable = true)\n",
      " |-- Survived: integer (nullable = true)\n",
      " |-- Pclass: integer (nullable = true)\n",
      " |-- Name: string (nullable = true)\n",
      " |-- Sex: string (nullable = true)\n",
      " |-- Age: double (nullable = true)\n",
      " |-- SibSp: integer (nullable = true)\n",
      " |-- Parch: integer (nullable = true)\n",
      " |-- Ticket: string (nullable = true)\n",
      " |-- Fare: double (nullable = true)\n",
      " |-- Cabin: string (nullable = true)\n",
      " |-- Embarked: string (nullable = true)\n",
      "\n"
     ]
    }
   ],
   "source": [
    "df_pyspark.printSchema()"
   ]
  },
  {
   "cell_type": "code",
   "execution_count": 11,
   "id": "4b18d987",
   "metadata": {},
   "outputs": [
    {
     "name": "stdout",
     "output_type": "stream",
     "text": [
      "+-----------+\n",
      "|PassengerId|\n",
      "+-----------+\n",
      "|          1|\n",
      "|          2|\n",
      "|          3|\n",
      "|          4|\n",
      "|          5|\n",
      "|          6|\n",
      "|          7|\n",
      "|          8|\n",
      "|          9|\n",
      "|         10|\n",
      "|         11|\n",
      "|         12|\n",
      "|         13|\n",
      "|         14|\n",
      "|         15|\n",
      "|         16|\n",
      "|         17|\n",
      "|         18|\n",
      "|         19|\n",
      "|         20|\n",
      "+-----------+\n",
      "only showing top 20 rows\n",
      "\n"
     ]
    }
   ],
   "source": [
    "df_pyspark.select('PassengerId').show()"
   ]
  },
  {
   "cell_type": "code",
   "execution_count": 12,
   "id": "980301fe",
   "metadata": {},
   "outputs": [
    {
     "name": "stdout",
     "output_type": "stream",
     "text": [
      "+-----------+----+\n",
      "|PassengerId| Age|\n",
      "+-----------+----+\n",
      "|          1|22.0|\n",
      "|          2|38.0|\n",
      "|          3|26.0|\n",
      "|          4|35.0|\n",
      "|          5|35.0|\n",
      "|          6|null|\n",
      "|          7|54.0|\n",
      "|          8| 2.0|\n",
      "|          9|27.0|\n",
      "|         10|14.0|\n",
      "|         11| 4.0|\n",
      "|         12|58.0|\n",
      "|         13|20.0|\n",
      "|         14|39.0|\n",
      "|         15|14.0|\n",
      "|         16|55.0|\n",
      "|         17| 2.0|\n",
      "|         18|null|\n",
      "|         19|31.0|\n",
      "|         20|null|\n",
      "+-----------+----+\n",
      "only showing top 20 rows\n",
      "\n"
     ]
    }
   ],
   "source": [
    "df_pyspark.select(['PassengerId','Age']).show()"
   ]
  },
  {
   "cell_type": "code",
   "execution_count": 13,
   "id": "22abb757",
   "metadata": {},
   "outputs": [
    {
     "data": {
      "text/plain": [
       "[Row(PassengerId=1, Survived=0, Pclass=3, Name='Braund, Mr. Owen Harris', Sex='male', Age=22.0, SibSp=1, Parch=0, Ticket='A/5 21171', Fare=7.25, Cabin=None, Embarked='S'),\n",
       " Row(PassengerId=2, Survived=1, Pclass=1, Name='Cumings, Mrs. John Bradley (Florence Briggs Thayer)', Sex='female', Age=38.0, SibSp=1, Parch=0, Ticket='PC 17599', Fare=71.2833, Cabin='C85', Embarked='C'),\n",
       " Row(PassengerId=3, Survived=1, Pclass=3, Name='Heikkinen, Miss. Laina', Sex='female', Age=26.0, SibSp=0, Parch=0, Ticket='STON/O2. 3101282', Fare=7.925, Cabin=None, Embarked='S')]"
      ]
     },
     "execution_count": 13,
     "metadata": {},
     "output_type": "execute_result"
    }
   ],
   "source": [
    "df_pyspark.head(3)"
   ]
  },
  {
   "cell_type": "code",
   "execution_count": 14,
   "id": "058023d2",
   "metadata": {},
   "outputs": [
    {
     "name": "stdout",
     "output_type": "stream",
     "text": [
      "+-------+-----------------+-------------------+------------------+--------------------+------+------------------+------------------+-------------------+------------------+-----------------+-----+--------+\n",
      "|summary|      PassengerId|           Survived|            Pclass|                Name|   Sex|               Age|             SibSp|              Parch|            Ticket|             Fare|Cabin|Embarked|\n",
      "+-------+-----------------+-------------------+------------------+--------------------+------+------------------+------------------+-------------------+------------------+-----------------+-----+--------+\n",
      "|  count|              891|                891|               891|                 891|   891|               714|               891|                891|               891|              891|  204|     889|\n",
      "|   mean|            446.0| 0.3838383838383838| 2.308641975308642|                null|  null| 29.69911764705882|0.5230078563411896|0.38159371492704824|260318.54916792738| 32.2042079685746| null|    null|\n",
      "| stddev|257.3538420152301|0.48659245426485753|0.8360712409770491|                null|  null|14.526497332334035|1.1027434322934315| 0.8060572211299488|471609.26868834975|49.69342859718089| null|    null|\n",
      "|    min|                1|                  0|                 1|\"Andersson, Mr. A...|female|              0.42|                 0|                  0|            110152|              0.0|  A10|       C|\n",
      "|    max|              891|                  1|                 3|van Melkebeke, Mr...|  male|              80.0|                 8|                  6|         WE/P 5735|         512.3292|    T|       S|\n",
      "+-------+-----------------+-------------------+------------------+--------------------+------+------------------+------------------+-------------------+------------------+-----------------+-----+--------+\n",
      "\n"
     ]
    }
   ],
   "source": [
    "df_pyspark.describe().show()"
   ]
  },
  {
   "cell_type": "code",
   "execution_count": 15,
   "id": "ff815bd5",
   "metadata": {},
   "outputs": [],
   "source": [
    "##adding column\n",
    "\n",
    "df_pyspark = df_pyspark.withColumn('Child',df_pyspark['Age']<13)"
   ]
  },
  {
   "cell_type": "code",
   "execution_count": 16,
   "id": "bdf4f04a",
   "metadata": {},
   "outputs": [
    {
     "name": "stdout",
     "output_type": "stream",
     "text": [
      "+-----------+--------+------+--------------------+------+----+-----+-----+----------------+-------+-----+--------+-----+\n",
      "|PassengerId|Survived|Pclass|                Name|   Sex| Age|SibSp|Parch|          Ticket|   Fare|Cabin|Embarked|Child|\n",
      "+-----------+--------+------+--------------------+------+----+-----+-----+----------------+-------+-----+--------+-----+\n",
      "|          1|       0|     3|Braund, Mr. Owen ...|  male|22.0|    1|    0|       A/5 21171|   7.25| null|       S|false|\n",
      "|          2|       1|     1|Cumings, Mrs. Joh...|female|38.0|    1|    0|        PC 17599|71.2833|  C85|       C|false|\n",
      "|          3|       1|     3|Heikkinen, Miss. ...|female|26.0|    0|    0|STON/O2. 3101282|  7.925| null|       S|false|\n",
      "|          4|       1|     1|Futrelle, Mrs. Ja...|female|35.0|    1|    0|          113803|   53.1| C123|       S|false|\n",
      "|          5|       0|     3|Allen, Mr. Willia...|  male|35.0|    0|    0|          373450|   8.05| null|       S|false|\n",
      "|          6|       0|     3|    Moran, Mr. James|  male|null|    0|    0|          330877| 8.4583| null|       Q| null|\n",
      "|          7|       0|     1|McCarthy, Mr. Tim...|  male|54.0|    0|    0|           17463|51.8625|  E46|       S|false|\n",
      "|          8|       0|     3|Palsson, Master. ...|  male| 2.0|    3|    1|          349909| 21.075| null|       S| true|\n",
      "|          9|       1|     3|Johnson, Mrs. Osc...|female|27.0|    0|    2|          347742|11.1333| null|       S|false|\n",
      "|         10|       1|     2|Nasser, Mrs. Nich...|female|14.0|    1|    0|          237736|30.0708| null|       C|false|\n",
      "|         11|       1|     3|Sandstrom, Miss. ...|female| 4.0|    1|    1|         PP 9549|   16.7|   G6|       S| true|\n",
      "|         12|       1|     1|Bonnell, Miss. El...|female|58.0|    0|    0|          113783|  26.55| C103|       S|false|\n",
      "|         13|       0|     3|Saundercock, Mr. ...|  male|20.0|    0|    0|       A/5. 2151|   8.05| null|       S|false|\n",
      "|         14|       0|     3|Andersson, Mr. An...|  male|39.0|    1|    5|          347082| 31.275| null|       S|false|\n",
      "|         15|       0|     3|Vestrom, Miss. Hu...|female|14.0|    0|    0|          350406| 7.8542| null|       S|false|\n",
      "|         16|       1|     2|Hewlett, Mrs. (Ma...|female|55.0|    0|    0|          248706|   16.0| null|       S|false|\n",
      "|         17|       0|     3|Rice, Master. Eugene|  male| 2.0|    4|    1|          382652| 29.125| null|       Q| true|\n",
      "|         18|       1|     2|Williams, Mr. Cha...|  male|null|    0|    0|          244373|   13.0| null|       S| null|\n",
      "|         19|       0|     3|Vander Planke, Mr...|female|31.0|    1|    0|          345763|   18.0| null|       S|false|\n",
      "|         20|       1|     3|Masselmani, Mrs. ...|female|null|    0|    0|            2649|  7.225| null|       C| null|\n",
      "+-----------+--------+------+--------------------+------+----+-----+-----+----------------+-------+-----+--------+-----+\n",
      "only showing top 20 rows\n",
      "\n"
     ]
    }
   ],
   "source": [
    "df_pyspark.show()"
   ]
  },
  {
   "cell_type": "code",
   "execution_count": 17,
   "id": "2ebf82d0",
   "metadata": {},
   "outputs": [],
   "source": [
    "## drop columns\n",
    "\n",
    "df_pyspark = df_pyspark.drop('Child')"
   ]
  },
  {
   "cell_type": "code",
   "execution_count": 18,
   "id": "8eafab11",
   "metadata": {},
   "outputs": [
    {
     "name": "stdout",
     "output_type": "stream",
     "text": [
      "+-----------+--------+------+--------------------+------+----+-----+-----+----------------+-------+-----+--------+\n",
      "|PassengerId|Survived|Pclass|                Name|   Sex| Age|SibSp|Parch|          Ticket|   Fare|Cabin|Embarked|\n",
      "+-----------+--------+------+--------------------+------+----+-----+-----+----------------+-------+-----+--------+\n",
      "|          1|       0|     3|Braund, Mr. Owen ...|  male|22.0|    1|    0|       A/5 21171|   7.25| null|       S|\n",
      "|          2|       1|     1|Cumings, Mrs. Joh...|female|38.0|    1|    0|        PC 17599|71.2833|  C85|       C|\n",
      "|          3|       1|     3|Heikkinen, Miss. ...|female|26.0|    0|    0|STON/O2. 3101282|  7.925| null|       S|\n",
      "|          4|       1|     1|Futrelle, Mrs. Ja...|female|35.0|    1|    0|          113803|   53.1| C123|       S|\n",
      "|          5|       0|     3|Allen, Mr. Willia...|  male|35.0|    0|    0|          373450|   8.05| null|       S|\n",
      "|          6|       0|     3|    Moran, Mr. James|  male|null|    0|    0|          330877| 8.4583| null|       Q|\n",
      "|          7|       0|     1|McCarthy, Mr. Tim...|  male|54.0|    0|    0|           17463|51.8625|  E46|       S|\n",
      "|          8|       0|     3|Palsson, Master. ...|  male| 2.0|    3|    1|          349909| 21.075| null|       S|\n",
      "|          9|       1|     3|Johnson, Mrs. Osc...|female|27.0|    0|    2|          347742|11.1333| null|       S|\n",
      "|         10|       1|     2|Nasser, Mrs. Nich...|female|14.0|    1|    0|          237736|30.0708| null|       C|\n",
      "|         11|       1|     3|Sandstrom, Miss. ...|female| 4.0|    1|    1|         PP 9549|   16.7|   G6|       S|\n",
      "|         12|       1|     1|Bonnell, Miss. El...|female|58.0|    0|    0|          113783|  26.55| C103|       S|\n",
      "|         13|       0|     3|Saundercock, Mr. ...|  male|20.0|    0|    0|       A/5. 2151|   8.05| null|       S|\n",
      "|         14|       0|     3|Andersson, Mr. An...|  male|39.0|    1|    5|          347082| 31.275| null|       S|\n",
      "|         15|       0|     3|Vestrom, Miss. Hu...|female|14.0|    0|    0|          350406| 7.8542| null|       S|\n",
      "|         16|       1|     2|Hewlett, Mrs. (Ma...|female|55.0|    0|    0|          248706|   16.0| null|       S|\n",
      "|         17|       0|     3|Rice, Master. Eugene|  male| 2.0|    4|    1|          382652| 29.125| null|       Q|\n",
      "|         18|       1|     2|Williams, Mr. Cha...|  male|null|    0|    0|          244373|   13.0| null|       S|\n",
      "|         19|       0|     3|Vander Planke, Mr...|female|31.0|    1|    0|          345763|   18.0| null|       S|\n",
      "|         20|       1|     3|Masselmani, Mrs. ...|female|null|    0|    0|            2649|  7.225| null|       C|\n",
      "+-----------+--------+------+--------------------+------+----+-----+-----+----------------+-------+-----+--------+\n",
      "only showing top 20 rows\n",
      "\n"
     ]
    }
   ],
   "source": [
    "df_pyspark.show()"
   ]
  },
  {
   "cell_type": "code",
   "execution_count": 19,
   "id": "b4d172e1",
   "metadata": {},
   "outputs": [
    {
     "name": "stdout",
     "output_type": "stream",
     "text": [
      "+-----------+--------+------+--------------------+------+----+-----+-----+----------------+-------+-----+--------+\n",
      "|PassengerId|Survived|Pclass|                name|   Sex| Age|SibSp|Parch|          Ticket|   Fare|Cabin|Embarked|\n",
      "+-----------+--------+------+--------------------+------+----+-----+-----+----------------+-------+-----+--------+\n",
      "|          1|       0|     3|Braund, Mr. Owen ...|  male|22.0|    1|    0|       A/5 21171|   7.25| null|       S|\n",
      "|          2|       1|     1|Cumings, Mrs. Joh...|female|38.0|    1|    0|        PC 17599|71.2833|  C85|       C|\n",
      "|          3|       1|     3|Heikkinen, Miss. ...|female|26.0|    0|    0|STON/O2. 3101282|  7.925| null|       S|\n",
      "|          4|       1|     1|Futrelle, Mrs. Ja...|female|35.0|    1|    0|          113803|   53.1| C123|       S|\n",
      "|          5|       0|     3|Allen, Mr. Willia...|  male|35.0|    0|    0|          373450|   8.05| null|       S|\n",
      "|          6|       0|     3|    Moran, Mr. James|  male|null|    0|    0|          330877| 8.4583| null|       Q|\n",
      "|          7|       0|     1|McCarthy, Mr. Tim...|  male|54.0|    0|    0|           17463|51.8625|  E46|       S|\n",
      "|          8|       0|     3|Palsson, Master. ...|  male| 2.0|    3|    1|          349909| 21.075| null|       S|\n",
      "|          9|       1|     3|Johnson, Mrs. Osc...|female|27.0|    0|    2|          347742|11.1333| null|       S|\n",
      "|         10|       1|     2|Nasser, Mrs. Nich...|female|14.0|    1|    0|          237736|30.0708| null|       C|\n",
      "|         11|       1|     3|Sandstrom, Miss. ...|female| 4.0|    1|    1|         PP 9549|   16.7|   G6|       S|\n",
      "|         12|       1|     1|Bonnell, Miss. El...|female|58.0|    0|    0|          113783|  26.55| C103|       S|\n",
      "|         13|       0|     3|Saundercock, Mr. ...|  male|20.0|    0|    0|       A/5. 2151|   8.05| null|       S|\n",
      "|         14|       0|     3|Andersson, Mr. An...|  male|39.0|    1|    5|          347082| 31.275| null|       S|\n",
      "|         15|       0|     3|Vestrom, Miss. Hu...|female|14.0|    0|    0|          350406| 7.8542| null|       S|\n",
      "|         16|       1|     2|Hewlett, Mrs. (Ma...|female|55.0|    0|    0|          248706|   16.0| null|       S|\n",
      "|         17|       0|     3|Rice, Master. Eugene|  male| 2.0|    4|    1|          382652| 29.125| null|       Q|\n",
      "|         18|       1|     2|Williams, Mr. Cha...|  male|null|    0|    0|          244373|   13.0| null|       S|\n",
      "|         19|       0|     3|Vander Planke, Mr...|female|31.0|    1|    0|          345763|   18.0| null|       S|\n",
      "|         20|       1|     3|Masselmani, Mrs. ...|female|null|    0|    0|            2649|  7.225| null|       C|\n",
      "+-----------+--------+------+--------------------+------+----+-----+-----+----------------+-------+-----+--------+\n",
      "only showing top 20 rows\n",
      "\n"
     ]
    }
   ],
   "source": [
    "## renaming columns\n",
    "\n",
    "df_pyspark.withColumnRenamed('Name','name').show()"
   ]
  },
  {
   "cell_type": "code",
   "execution_count": 20,
   "id": "421e8fde",
   "metadata": {},
   "outputs": [
    {
     "data": {
      "text/plain": [
       "DataFrame[PassengerId: int, Survived: int, Pclass: int, Name: string, Sex: string, Age: double, SibSp: int, Parch: int, Ticket: string, Fare: double, Cabin: string, Embarked: string]"
      ]
     },
     "execution_count": 20,
     "metadata": {},
     "output_type": "execute_result"
    }
   ],
   "source": [
    "spark.read.csv('./train.csv',header=True,inferSchema = True)"
   ]
  },
  {
   "cell_type": "code",
   "execution_count": 21,
   "id": "f690b520",
   "metadata": {},
   "outputs": [
    {
     "name": "stdout",
     "output_type": "stream",
     "text": [
      "+-----------+--------+------+--------------------+------+----+-----+-----+----------------+-------+-----+--------+\n",
      "|PassengerId|Survived|Pclass|                Name|   Sex| Age|SibSp|Parch|          Ticket|   Fare|Cabin|Embarked|\n",
      "+-----------+--------+------+--------------------+------+----+-----+-----+----------------+-------+-----+--------+\n",
      "|          1|       0|     3|Braund, Mr. Owen ...|  male|22.0|    1|    0|       A/5 21171|   7.25| null|       S|\n",
      "|          2|       1|     1|Cumings, Mrs. Joh...|female|38.0|    1|    0|        PC 17599|71.2833|  C85|       C|\n",
      "|          3|       1|     3|Heikkinen, Miss. ...|female|26.0|    0|    0|STON/O2. 3101282|  7.925| null|       S|\n",
      "|          4|       1|     1|Futrelle, Mrs. Ja...|female|35.0|    1|    0|          113803|   53.1| C123|       S|\n",
      "|          5|       0|     3|Allen, Mr. Willia...|  male|35.0|    0|    0|          373450|   8.05| null|       S|\n",
      "|          6|       0|     3|    Moran, Mr. James|  male|null|    0|    0|          330877| 8.4583| null|       Q|\n",
      "|          7|       0|     1|McCarthy, Mr. Tim...|  male|54.0|    0|    0|           17463|51.8625|  E46|       S|\n",
      "|          8|       0|     3|Palsson, Master. ...|  male| 2.0|    3|    1|          349909| 21.075| null|       S|\n",
      "|          9|       1|     3|Johnson, Mrs. Osc...|female|27.0|    0|    2|          347742|11.1333| null|       S|\n",
      "|         10|       1|     2|Nasser, Mrs. Nich...|female|14.0|    1|    0|          237736|30.0708| null|       C|\n",
      "|         11|       1|     3|Sandstrom, Miss. ...|female| 4.0|    1|    1|         PP 9549|   16.7|   G6|       S|\n",
      "|         12|       1|     1|Bonnell, Miss. El...|female|58.0|    0|    0|          113783|  26.55| C103|       S|\n",
      "|         13|       0|     3|Saundercock, Mr. ...|  male|20.0|    0|    0|       A/5. 2151|   8.05| null|       S|\n",
      "|         14|       0|     3|Andersson, Mr. An...|  male|39.0|    1|    5|          347082| 31.275| null|       S|\n",
      "|         15|       0|     3|Vestrom, Miss. Hu...|female|14.0|    0|    0|          350406| 7.8542| null|       S|\n",
      "|         16|       1|     2|Hewlett, Mrs. (Ma...|female|55.0|    0|    0|          248706|   16.0| null|       S|\n",
      "|         17|       0|     3|Rice, Master. Eugene|  male| 2.0|    4|    1|          382652| 29.125| null|       Q|\n",
      "|         18|       1|     2|Williams, Mr. Cha...|  male|null|    0|    0|          244373|   13.0| null|       S|\n",
      "|         19|       0|     3|Vander Planke, Mr...|female|31.0|    1|    0|          345763|   18.0| null|       S|\n",
      "|         20|       1|     3|Masselmani, Mrs. ...|female|null|    0|    0|            2649|  7.225| null|       C|\n",
      "+-----------+--------+------+--------------------+------+----+-----+-----+----------------+-------+-----+--------+\n",
      "only showing top 20 rows\n",
      "\n"
     ]
    }
   ],
   "source": [
    "#drop columns\n",
    "\n",
    "df_pyspark.show()"
   ]
  },
  {
   "cell_type": "code",
   "execution_count": 22,
   "id": "f99fca68",
   "metadata": {},
   "outputs": [
    {
     "name": "stdout",
     "output_type": "stream",
     "text": [
      "+-----------+--------+------+--------------------+------+----+-----+-----+-----------+--------+-----------+--------+\n",
      "|PassengerId|Survived|Pclass|                Name|   Sex| Age|SibSp|Parch|     Ticket|    Fare|      Cabin|Embarked|\n",
      "+-----------+--------+------+--------------------+------+----+-----+-----+-----------+--------+-----------+--------+\n",
      "|          2|       1|     1|Cumings, Mrs. Joh...|female|38.0|    1|    0|   PC 17599| 71.2833|        C85|       C|\n",
      "|          4|       1|     1|Futrelle, Mrs. Ja...|female|35.0|    1|    0|     113803|    53.1|       C123|       S|\n",
      "|          7|       0|     1|McCarthy, Mr. Tim...|  male|54.0|    0|    0|      17463| 51.8625|        E46|       S|\n",
      "|         11|       1|     3|Sandstrom, Miss. ...|female| 4.0|    1|    1|    PP 9549|    16.7|         G6|       S|\n",
      "|         12|       1|     1|Bonnell, Miss. El...|female|58.0|    0|    0|     113783|   26.55|       C103|       S|\n",
      "|         22|       1|     2|Beesley, Mr. Lawr...|  male|34.0|    0|    0|     248698|    13.0|        D56|       S|\n",
      "|         24|       1|     1|Sloper, Mr. Willi...|  male|28.0|    0|    0|     113788|    35.5|         A6|       S|\n",
      "|         28|       0|     1|Fortune, Mr. Char...|  male|19.0|    3|    2|      19950|   263.0|C23 C25 C27|       S|\n",
      "|         53|       1|     1|Harper, Mrs. Henr...|female|49.0|    1|    0|   PC 17572| 76.7292|        D33|       C|\n",
      "|         55|       0|     1|Ostby, Mr. Engelh...|  male|65.0|    0|    1|     113509| 61.9792|        B30|       C|\n",
      "|         63|       0|     1|Harris, Mr. Henry...|  male|45.0|    1|    0|      36973|  83.475|        C83|       S|\n",
      "|         67|       1|     2|Nye, Mrs. (Elizab...|female|29.0|    0|    0| C.A. 29395|    10.5|        F33|       S|\n",
      "|         76|       0|     3|Moen, Mr. Sigurd ...|  male|25.0|    0|    0|     348123|    7.65|      F G73|       S|\n",
      "|         89|       1|     1|Fortune, Miss. Ma...|female|23.0|    3|    2|      19950|   263.0|C23 C25 C27|       S|\n",
      "|         93|       0|     1|Chaffee, Mr. Herb...|  male|46.0|    1|    0|W.E.P. 5734|  61.175|        E31|       S|\n",
      "|         97|       0|     1|Goldschmidt, Mr. ...|  male|71.0|    0|    0|   PC 17754| 34.6542|         A5|       C|\n",
      "|         98|       1|     1|Greenfield, Mr. W...|  male|23.0|    0|    1|   PC 17759| 63.3583|    D10 D12|       C|\n",
      "|        103|       0|     1|White, Mr. Richar...|  male|21.0|    0|    1|      35281| 77.2875|        D26|       S|\n",
      "|        111|       0|     1|Porter, Mr. Walte...|  male|47.0|    0|    0|     110465|    52.0|       C110|       S|\n",
      "|        119|       0|     1|Baxter, Mr. Quigg...|  male|24.0|    0|    1|   PC 17558|247.5208|    B58 B60|       C|\n",
      "+-----------+--------+------+--------------------+------+----+-----+-----+-----------+--------+-----------+--------+\n",
      "only showing top 20 rows\n",
      "\n"
     ]
    }
   ],
   "source": [
    "#threshold\n",
    "\n",
    "df_pyspark.na.drop(how =\"any\").show()"
   ]
  },
  {
   "cell_type": "code",
   "execution_count": 23,
   "id": "eb14da80",
   "metadata": {},
   "outputs": [
    {
     "name": "stdout",
     "output_type": "stream",
     "text": [
      "+-----------+--------+------+--------------------+------+----+-----+-----+----------------+-------+-----+--------+\n",
      "|PassengerId|Survived|Pclass|                Name|   Sex| Age|SibSp|Parch|          Ticket|   Fare|Cabin|Embarked|\n",
      "+-----------+--------+------+--------------------+------+----+-----+-----+----------------+-------+-----+--------+\n",
      "|          1|       0|     3|Braund, Mr. Owen ...|  male|22.0|    1|    0|       A/5 21171|   7.25| null|       S|\n",
      "|          2|       1|     1|Cumings, Mrs. Joh...|female|38.0|    1|    0|        PC 17599|71.2833|  C85|       C|\n",
      "|          3|       1|     3|Heikkinen, Miss. ...|female|26.0|    0|    0|STON/O2. 3101282|  7.925| null|       S|\n",
      "|          4|       1|     1|Futrelle, Mrs. Ja...|female|35.0|    1|    0|          113803|   53.1| C123|       S|\n",
      "|          5|       0|     3|Allen, Mr. Willia...|  male|35.0|    0|    0|          373450|   8.05| null|       S|\n",
      "|          6|       0|     3|    Moran, Mr. James|  male|null|    0|    0|          330877| 8.4583| null|       Q|\n",
      "|          7|       0|     1|McCarthy, Mr. Tim...|  male|54.0|    0|    0|           17463|51.8625|  E46|       S|\n",
      "|          8|       0|     3|Palsson, Master. ...|  male| 2.0|    3|    1|          349909| 21.075| null|       S|\n",
      "|          9|       1|     3|Johnson, Mrs. Osc...|female|27.0|    0|    2|          347742|11.1333| null|       S|\n",
      "|         10|       1|     2|Nasser, Mrs. Nich...|female|14.0|    1|    0|          237736|30.0708| null|       C|\n",
      "|         11|       1|     3|Sandstrom, Miss. ...|female| 4.0|    1|    1|         PP 9549|   16.7|   G6|       S|\n",
      "|         12|       1|     1|Bonnell, Miss. El...|female|58.0|    0|    0|          113783|  26.55| C103|       S|\n",
      "|         13|       0|     3|Saundercock, Mr. ...|  male|20.0|    0|    0|       A/5. 2151|   8.05| null|       S|\n",
      "|         14|       0|     3|Andersson, Mr. An...|  male|39.0|    1|    5|          347082| 31.275| null|       S|\n",
      "|         15|       0|     3|Vestrom, Miss. Hu...|female|14.0|    0|    0|          350406| 7.8542| null|       S|\n",
      "|         16|       1|     2|Hewlett, Mrs. (Ma...|female|55.0|    0|    0|          248706|   16.0| null|       S|\n",
      "|         17|       0|     3|Rice, Master. Eugene|  male| 2.0|    4|    1|          382652| 29.125| null|       Q|\n",
      "|         18|       1|     2|Williams, Mr. Cha...|  male|null|    0|    0|          244373|   13.0| null|       S|\n",
      "|         19|       0|     3|Vander Planke, Mr...|female|31.0|    1|    0|          345763|   18.0| null|       S|\n",
      "|         20|       1|     3|Masselmani, Mrs. ...|female|null|    0|    0|            2649|  7.225| null|       C|\n",
      "+-----------+--------+------+--------------------+------+----+-----+-----+----------------+-------+-----+--------+\n",
      "only showing top 20 rows\n",
      "\n"
     ]
    }
   ],
   "source": [
    "#thresh number will drop the rows with less than the thresh number of non-null numbers\n",
    "\n",
    "df_pyspark.dropna(how = 'any',thresh = 10).show()"
   ]
  },
  {
   "cell_type": "code",
   "execution_count": 24,
   "id": "1ec2938e",
   "metadata": {},
   "outputs": [
    {
     "name": "stdout",
     "output_type": "stream",
     "text": [
      "+-----------+--------+------+--------------------+------+----+-----+-----+----------------+-------+--------------+--------+\n",
      "|PassengerId|Survived|Pclass|                Name|   Sex| Age|SibSp|Parch|          Ticket|   Fare|         Cabin|Embarked|\n",
      "+-----------+--------+------+--------------------+------+----+-----+-----+----------------+-------+--------------+--------+\n",
      "|          1|       0|     3|Braund, Mr. Owen ...|  male|22.0|    1|    0|       A/5 21171|   7.25|Missing Values|       S|\n",
      "|          2|       1|     1|Cumings, Mrs. Joh...|female|38.0|    1|    0|        PC 17599|71.2833|           C85|       C|\n",
      "|          3|       1|     3|Heikkinen, Miss. ...|female|26.0|    0|    0|STON/O2. 3101282|  7.925|Missing Values|       S|\n",
      "|          4|       1|     1|Futrelle, Mrs. Ja...|female|35.0|    1|    0|          113803|   53.1|          C123|       S|\n",
      "|          5|       0|     3|Allen, Mr. Willia...|  male|35.0|    0|    0|          373450|   8.05|Missing Values|       S|\n",
      "|          6|       0|     3|    Moran, Mr. James|  male|null|    0|    0|          330877| 8.4583|Missing Values|       Q|\n",
      "|          7|       0|     1|McCarthy, Mr. Tim...|  male|54.0|    0|    0|           17463|51.8625|           E46|       S|\n",
      "|          8|       0|     3|Palsson, Master. ...|  male| 2.0|    3|    1|          349909| 21.075|Missing Values|       S|\n",
      "|          9|       1|     3|Johnson, Mrs. Osc...|female|27.0|    0|    2|          347742|11.1333|Missing Values|       S|\n",
      "|         10|       1|     2|Nasser, Mrs. Nich...|female|14.0|    1|    0|          237736|30.0708|Missing Values|       C|\n",
      "|         11|       1|     3|Sandstrom, Miss. ...|female| 4.0|    1|    1|         PP 9549|   16.7|            G6|       S|\n",
      "|         12|       1|     1|Bonnell, Miss. El...|female|58.0|    0|    0|          113783|  26.55|          C103|       S|\n",
      "|         13|       0|     3|Saundercock, Mr. ...|  male|20.0|    0|    0|       A/5. 2151|   8.05|Missing Values|       S|\n",
      "|         14|       0|     3|Andersson, Mr. An...|  male|39.0|    1|    5|          347082| 31.275|Missing Values|       S|\n",
      "|         15|       0|     3|Vestrom, Miss. Hu...|female|14.0|    0|    0|          350406| 7.8542|Missing Values|       S|\n",
      "|         16|       1|     2|Hewlett, Mrs. (Ma...|female|55.0|    0|    0|          248706|   16.0|Missing Values|       S|\n",
      "|         17|       0|     3|Rice, Master. Eugene|  male| 2.0|    4|    1|          382652| 29.125|Missing Values|       Q|\n",
      "|         18|       1|     2|Williams, Mr. Cha...|  male|null|    0|    0|          244373|   13.0|Missing Values|       S|\n",
      "|         19|       0|     3|Vander Planke, Mr...|female|31.0|    1|    0|          345763|   18.0|Missing Values|       S|\n",
      "|         20|       1|     3|Masselmani, Mrs. ...|female|null|    0|    0|            2649|  7.225|Missing Values|       C|\n",
      "+-----------+--------+------+--------------------+------+----+-----+-----+----------------+-------+--------------+--------+\n",
      "only showing top 20 rows\n",
      "\n"
     ]
    }
   ],
   "source": [
    "df_pyspark.na.fill('Missing Values',['Cabin']).show()"
   ]
  },
  {
   "cell_type": "code",
   "execution_count": 25,
   "id": "35b6a195",
   "metadata": {},
   "outputs": [],
   "source": [
    "#Filter operations"
   ]
  },
  {
   "cell_type": "code",
   "execution_count": 26,
   "id": "ef39a898",
   "metadata": {},
   "outputs": [
    {
     "name": "stdout",
     "output_type": "stream",
     "text": [
      "+--------------------+---+\n",
      "|                Name|Age|\n",
      "+--------------------+---+\n",
      "|Laroche, Miss. Si...|3.0|\n",
      "|Navratil, Master....|3.0|\n",
      "|Asplund, Master. ...|3.0|\n",
      "|\"Coutts, Master. ...|3.0|\n",
      "|Palsson, Miss. St...|3.0|\n",
      "|Richards, Master....|3.0|\n",
      "+--------------------+---+\n",
      "\n"
     ]
    }
   ],
   "source": [
    "df_pyspark.filter(\"Age=3\").select([\"Name\",\"Age\"]).show()"
   ]
  },
  {
   "cell_type": "code",
   "execution_count": 27,
   "id": "7839cc8e",
   "metadata": {},
   "outputs": [
    {
     "name": "stdout",
     "output_type": "stream",
     "text": [
      "+--------------------+---+\n",
      "|                Name|Age|\n",
      "+--------------------+---+\n",
      "|Laroche, Miss. Si...|3.0|\n",
      "|Navratil, Master....|3.0|\n",
      "|Asplund, Master. ...|3.0|\n",
      "|\"Coutts, Master. ...|3.0|\n",
      "|Palsson, Miss. St...|3.0|\n",
      "|Richards, Master....|3.0|\n",
      "+--------------------+---+\n",
      "\n"
     ]
    }
   ],
   "source": [
    "df_pyspark.filter(df_pyspark['Age']==3).select([\"Name\",\"Age\"]).show()"
   ]
  },
  {
   "cell_type": "code",
   "execution_count": 28,
   "id": "8053acba",
   "metadata": {},
   "outputs": [
    {
     "name": "stdout",
     "output_type": "stream",
     "text": [
      "+--------------------+----+\n",
      "|                Name| Age|\n",
      "+--------------------+----+\n",
      "|Braund, Mr. Owen ...|22.0|\n",
      "|Cumings, Mrs. Joh...|38.0|\n",
      "|Heikkinen, Miss. ...|26.0|\n",
      "|Futrelle, Mrs. Ja...|35.0|\n",
      "|Allen, Mr. Willia...|35.0|\n",
      "|McCarthy, Mr. Tim...|54.0|\n",
      "|Palsson, Master. ...| 2.0|\n",
      "|Johnson, Mrs. Osc...|27.0|\n",
      "|Nasser, Mrs. Nich...|14.0|\n",
      "|Sandstrom, Miss. ...| 4.0|\n",
      "|Bonnell, Miss. El...|58.0|\n",
      "|Saundercock, Mr. ...|20.0|\n",
      "|Andersson, Mr. An...|39.0|\n",
      "|Vestrom, Miss. Hu...|14.0|\n",
      "|Hewlett, Mrs. (Ma...|55.0|\n",
      "|Rice, Master. Eugene| 2.0|\n",
      "|Vander Planke, Mr...|31.0|\n",
      "|Fynney, Mr. Joseph J|35.0|\n",
      "|Beesley, Mr. Lawr...|34.0|\n",
      "|\"McGowan, Miss. A...|15.0|\n",
      "+--------------------+----+\n",
      "only showing top 20 rows\n",
      "\n"
     ]
    }
   ],
   "source": [
    "df_pyspark.filter(~(df_pyspark['Age']==3)).select([\"Name\",\"Age\"]).show()"
   ]
  },
  {
   "cell_type": "code",
   "execution_count": 29,
   "id": "c87492bc",
   "metadata": {},
   "outputs": [
    {
     "name": "stdout",
     "output_type": "stream",
     "text": [
      "+----+------+----------------+-------------+-----------+--------+----------+----------+------------------+\n",
      "| Age|Pclass|sum(PassengerId)|sum(Survived)|sum(Pclass)|sum(Age)|sum(SibSp)|sum(Parch)|         sum(Fare)|\n",
      "+----+------+----------------+-------------+-----------+--------+----------+----------+------------------+\n",
      "|32.0|     2|            1472|            2|          8|   128.0|         3|         0|             123.0|\n",
      "|40.0|     3|            1815|            0|         15|   200.0|         3|         5|           67.9958|\n",
      "|41.0|     2|             273|            1|          2|    41.0|         0|         1|              19.5|\n",
      "|42.0|     2|            1956|            3|         10|   210.0|         2|         0|              92.0|\n",
      "|26.0|     2|             933|            0|          4|    52.0|         1|         1|              36.5|\n",
      "|47.0|     2|             587|            0|          2|    47.0|         0|         0|              15.0|\n",
      "|0.83|     2|             911|            2|          4|    1.66|         1|         3|             47.75|\n",
      "|51.0|     1|            1780|            2|          3|   153.0|         1|         1|          165.8875|\n",
      "|71.0|     1|             591|            0|          2|   142.0|         0|         0|           84.1584|\n",
      "|54.0|     2|            1926|            1|          8|   216.0|         2|         3|              89.0|\n",
      "|40.0|     1|            1435|            3|          5|   200.0|         1|         1|346.68330000000003|\n",
      "| 3.0|     3|             986|            2|          9|     9.0|         8|         4|           68.3625|\n",
      "|30.0|     3|            4620|            2|         33|   330.0|         2|         1|          116.5875|\n",
      "| 2.0|     1|             298|            0|          1|     2.0|         1|         2|            151.55|\n",
      "|61.0|     3|             327|            0|          3|    61.0|         0|         0|            6.2375|\n",
      "|19.0|     1|            2094|            3|          5|    95.0|         5|         4|463.46250000000003|\n",
      "|45.0|     2|            1148|            2|          4|    90.0|         1|         1|             39.75|\n",
      "|52.0|     2|            1411|            0|          4|   104.0|         0|         0|              26.5|\n",
      "|33.0|     1|            2856|            3|          4|   132.0|         2|         0|             234.6|\n",
      "|17.0|     1|            1641|            3|          3|    51.0|         2|         2|          276.7833|\n",
      "+----+------+----------------+-------------+-----------+--------+----------+----------+------------------+\n",
      "only showing top 20 rows\n",
      "\n"
     ]
    }
   ],
   "source": [
    "df_pyspark.groupBy(['Age','Pclass']).sum().show()"
   ]
  },
  {
   "cell_type": "code",
   "execution_count": 30,
   "id": "4e322e0c",
   "metadata": {},
   "outputs": [
    {
     "name": "stdout",
     "output_type": "stream",
     "text": [
      "+------+----------------+-------------+-----------+--------+----------+----------+---------+\n",
      "|Pclass|max(PassengerId)|max(Survived)|max(Pclass)|max(Age)|max(SibSp)|max(Parch)|max(Fare)|\n",
      "+------+----------------+-------------+-----------+--------+----------+----------+---------+\n",
      "|     1|             890|            1|          1|    80.0|         3|         4| 512.3292|\n",
      "|     3|             891|            1|          3|    74.0|         8|         6|    69.55|\n",
      "|     2|             887|            1|          2|    70.0|         3|         3|     73.5|\n",
      "+------+----------------+-------------+-----------+--------+----------+----------+---------+\n",
      "\n"
     ]
    }
   ],
   "source": [
    "df_pyspark.groupBy('Pclass').max().show()"
   ]
  },
  {
   "cell_type": "code",
   "execution_count": 31,
   "id": "ac56aec4",
   "metadata": {},
   "outputs": [
    {
     "name": "stdout",
     "output_type": "stream",
     "text": [
      "+------+------------------+-------------------+-----------+------------------+-------------------+-------------------+------------------+\n",
      "|Pclass|  avg(PassengerId)|      avg(Survived)|avg(Pclass)|          avg(Age)|         avg(SibSp)|         avg(Parch)|         avg(Fare)|\n",
      "+------+------------------+-------------------+-----------+------------------+-------------------+-------------------+------------------+\n",
      "|     1|461.59722222222223| 0.6296296296296297|        1.0|38.233440860215055| 0.4166666666666667|0.35648148148148145| 84.15468749999992|\n",
      "|     3| 439.1547861507128|0.24236252545824846|        3.0| 25.14061971830986|  0.615071283095723|0.39307535641547864|13.675550101832997|\n",
      "|     2|445.95652173913044|0.47282608695652173|        2.0| 29.87763005780347|0.40217391304347827| 0.3804347826086957| 20.66218315217391|\n",
      "+------+------------------+-------------------+-----------+------------------+-------------------+-------------------+------------------+\n",
      "\n"
     ]
    }
   ],
   "source": [
    "df_pyspark.groupBy('Pclass').mean().show()"
   ]
  },
  {
   "cell_type": "code",
   "execution_count": 32,
   "id": "4977103e",
   "metadata": {},
   "outputs": [
    {
     "name": "stdout",
     "output_type": "stream",
     "text": [
      "+------+----------------+-------------+-----------+--------+----------+----------+---------+\n",
      "|Pclass|min(PassengerId)|min(Survived)|min(Pclass)|min(Age)|min(SibSp)|min(Parch)|min(Fare)|\n",
      "+------+----------------+-------------+-----------+--------+----------+----------+---------+\n",
      "|     1|               2|            0|          1|    0.92|         0|         0|      0.0|\n",
      "|     3|               1|            0|          3|    0.42|         0|         0|      0.0|\n",
      "|     2|              10|            0|          2|    0.67|         0|         0|      0.0|\n",
      "+------+----------------+-------------+-----------+--------+----------+----------+---------+\n",
      "\n"
     ]
    }
   ],
   "source": [
    "df_pyspark.groupBy('Pclass').min().show()"
   ]
  },
  {
   "cell_type": "code",
   "execution_count": 33,
   "id": "4526345e",
   "metadata": {},
   "outputs": [
    {
     "name": "stdout",
     "output_type": "stream",
     "text": [
      "+------+-----+\n",
      "|Pclass|count|\n",
      "+------+-----+\n",
      "|     1|  216|\n",
      "|     3|  491|\n",
      "|     2|  184|\n",
      "+------+-----+\n",
      "\n"
     ]
    }
   ],
   "source": [
    "df_pyspark.groupBy('Pclass').count().show()"
   ]
  },
  {
   "cell_type": "code",
   "execution_count": 34,
   "id": "f93c6078",
   "metadata": {},
   "outputs": [
    {
     "name": "stdout",
     "output_type": "stream",
     "text": [
      "+-----------+\n",
      "|sum(Pclass)|\n",
      "+-----------+\n",
      "|       2057|\n",
      "+-----------+\n",
      "\n"
     ]
    }
   ],
   "source": [
    "df_pyspark.agg({'Pclass':'sum'}).show()"
   ]
  },
  {
   "cell_type": "code",
   "execution_count": 35,
   "id": "81ca9b02",
   "metadata": {},
   "outputs": [
    {
     "data": {
      "text/plain": [
       "['PassengerId',\n",
       " 'Survived',\n",
       " 'Pclass',\n",
       " 'Name',\n",
       " 'Sex',\n",
       " 'Age',\n",
       " 'SibSp',\n",
       " 'Parch',\n",
       " 'Ticket',\n",
       " 'Fare',\n",
       " 'Cabin',\n",
       " 'Embarked']"
      ]
     },
     "execution_count": 35,
     "metadata": {},
     "output_type": "execute_result"
    }
   ],
   "source": [
    "df_pyspark.columns"
   ]
  },
  {
   "cell_type": "code",
   "execution_count": 36,
   "id": "866609d8",
   "metadata": {},
   "outputs": [],
   "source": [
    "from pyspark.ml.feature import VectorAssembler\n",
    "from pyspark.ml.feature import StringIndexer"
   ]
  },
  {
   "cell_type": "code",
   "execution_count": 52,
   "id": "1a85f491",
   "metadata": {},
   "outputs": [],
   "source": [
    "from pyspark.ml.classification import LogisticRegression\n",
    "##train test split\n",
    "train_data, test_data = df_pyspark.randomSplit([0.75,0.25])"
   ]
  },
  {
   "cell_type": "code",
   "execution_count": 53,
   "id": "8ead2e78",
   "metadata": {},
   "outputs": [],
   "source": [
    "train_data = train_data.na.fill('Missing Values',['Cabin','Embarked'])\n",
    "test_data = test_data.na.fill('Missing Values',['Cabin','Embarked']) "
   ]
  },
  {
   "cell_type": "code",
   "execution_count": 54,
   "id": "d8bbf39d",
   "metadata": {},
   "outputs": [],
   "source": [
    "gender_indexer = StringIndexer(inputCol=\"Sex\", outputCol=\"genderIndexer\")\n",
    "embarked_indexer = StringIndexer(inputCol=\"Embarked\", outputCol=\"embarkedIndexer\")\n",
    "\n",
    "train_data = gender_indexer.fit(train_data).transform(train_data)\n",
    "test_data = embarked_indexer.fit(test_data).transform(test_data)"
   ]
  },
  {
   "cell_type": "code",
   "execution_count": 56,
   "id": "9cf48db3",
   "metadata": {},
   "outputs": [],
   "source": [
    "train_data = embarked_indexer.fit(train_data).transform(train_data)\n",
    "test_data = gender_indexer.fit(test_data).transform(test_data)"
   ]
  },
  {
   "cell_type": "code",
   "execution_count": 62,
   "id": "fc99ff01",
   "metadata": {},
   "outputs": [],
   "source": [
    "#filling na with imputer\n",
    "from pyspark.ml.feature import Imputer\n",
    "\n",
    "imputer = Imputer(inputCols = [\"Age\",\"Fare\"],\n",
    "                 outputCols = [\"{}_imputed\".format(c) for c in [\"Age\",\"Fare\"]\n",
    "                              ]).setStrategy('median')"
   ]
  },
  {
   "cell_type": "code",
   "execution_count": 63,
   "id": "f4a12d09",
   "metadata": {},
   "outputs": [],
   "source": [
    "train_data = imputer.fit(train_data).transform(train_data)\n",
    "test_data = imputer.fit(test_data).transform(test_data)"
   ]
  },
  {
   "cell_type": "code",
   "execution_count": 66,
   "id": "a3eae046",
   "metadata": {},
   "outputs": [],
   "source": [
    "train_data = train_data.drop('Independent Feature')\n",
    "test_data = test_data.drop('Independent Feature')"
   ]
  },
  {
   "cell_type": "code",
   "execution_count": 68,
   "id": "2720cff9",
   "metadata": {},
   "outputs": [
    {
     "data": {
      "text/plain": [
       "['PassengerId',\n",
       " 'Survived',\n",
       " 'Pclass',\n",
       " 'Name',\n",
       " 'Sex',\n",
       " 'Age',\n",
       " 'SibSp',\n",
       " 'Parch',\n",
       " 'Ticket',\n",
       " 'Fare',\n",
       " 'Cabin',\n",
       " 'Embarked',\n",
       " 'genderIndexer',\n",
       " 'embarkedIndexer',\n",
       " 'Age_imputed',\n",
       " 'Fare_imputed']"
      ]
     },
     "execution_count": 68,
     "metadata": {},
     "output_type": "execute_result"
    }
   ],
   "source": [
    "train_data.columns"
   ]
  },
  {
   "cell_type": "code",
   "execution_count": 69,
   "id": "220e0bf0",
   "metadata": {},
   "outputs": [],
   "source": [
    "featureassembler = VectorAssembler(inputCols = [\"Age_imputed\",\"Fare_imputed\",\"Pclass\",\"embarkedIndexer\",\"Parch\",\"SibSp\",\"genderIndexer\"], outputCol = 'Independent Features')"
   ]
  },
  {
   "cell_type": "code",
   "execution_count": 70,
   "id": "c73d0a41",
   "metadata": {},
   "outputs": [],
   "source": [
    "train_data = featureassembler.transform(train_data)"
   ]
  },
  {
   "cell_type": "code",
   "execution_count": 76,
   "id": "ab76e3eb",
   "metadata": {},
   "outputs": [],
   "source": [
    "train_data = train_data.select(['Independent Features','Survived'])"
   ]
  },
  {
   "cell_type": "code",
   "execution_count": 71,
   "id": "21a63be3",
   "metadata": {},
   "outputs": [],
   "source": [
    "test_data = featureassembler.transform(test_data)"
   ]
  },
  {
   "cell_type": "code",
   "execution_count": 78,
   "id": "4f2e4ef3",
   "metadata": {},
   "outputs": [],
   "source": [
    "test_data = test_data.select(['Independent Features','Survived'])"
   ]
  },
  {
   "cell_type": "code",
   "execution_count": 88,
   "id": "16af612f",
   "metadata": {},
   "outputs": [],
   "source": [
    "lr = LogisticRegression(featuresCol = 'Independent Features' , labelCol = 'Survived',maxIter=10)\n",
    "lr = lr.fit(train_data)"
   ]
  },
  {
   "cell_type": "code",
   "execution_count": 89,
   "id": "5eae4309",
   "metadata": {},
   "outputs": [],
   "source": [
    "pred_results = lr.evaluate(test_data)"
   ]
  },
  {
   "cell_type": "code",
   "execution_count": 90,
   "id": "e87a5764",
   "metadata": {},
   "outputs": [
    {
     "name": "stdout",
     "output_type": "stream",
     "text": [
      "+--------------------+--------+--------------------+--------------------+----------+\n",
      "|Independent Features|Survived|       rawPrediction|         probability|prediction|\n",
      "+--------------------+--------+--------------------+--------------------+----------+\n",
      "|[27.0,11.1333,3.0...|       1|[-0.3668042693597...|[0.40931344786226...|       1.0|\n",
      "|(7,[0,1,2],[28.0,...|       1|[0.92536492876745...|[0.71613398461274...|       0.0|\n",
      "|[19.0,263.0,1.0,0...|       0|[0.12951642476735...|[0.53233392003323...|       0.0|\n",
      "|[42.0,52.0,1.0,0....|       0|[0.65397852646490...|[0.65790645363909...|       0.0|\n",
      "|[28.0,7.2292,3.0,...|       1|[1.95264185019504...|[0.87573442307001...|       0.0|\n",
      "|[3.0,41.5792,2.0,...|       1|[-2.0469887772471...|[0.11435700237594...|       1.0|\n",
      "|(7,[0,1,2],[28.0,...|       0|[2.00321996238140...|[0.88113473905752...|       0.0|\n",
      "|[28.0,7.75,3.0,2....|       1|[-0.6531164518218...|[0.34228759606962...|       1.0|\n",
      "|[18.0,17.8,3.0,0....|       0|[-0.5298743263790...|[0.37054619988640...|       1.0|\n",
      "|[7.0,39.6875,3.0,...|       0|[2.90530657254254...|[0.94810813718863...|       0.0|\n",
      "|[49.0,76.7292,1.0...|       1|[-1.7821913722658...|[0.14403275487293...|       1.0|\n",
      "|[21.0,10.5,2.0,0....|       1|[-1.8714620945238...|[0.13337263664204...|       1.0|\n",
      "|[11.0,46.9,3.0,0....|       0|[3.55599109846830...|[0.97223958291773...|       0.0|\n",
      "|[17.0,7.925,3.0,0...|       1|[0.94576670595861...|[0.72026303201949...|       0.0|\n",
      "|[26.0,8.6625,3.0,...|       0|[2.76105081479763...|[0.94053443269262...|       0.0|\n",
      "|(7,[0,1,2],[28.0,...|       0|[2.00321996238140...|[0.88113473905752...|       0.0|\n",
      "|(7,[0,1,2],[24.0,...|       0|[1.85736936538496...|[0.86499003141241...|       0.0|\n",
      "|[26.0,20.575,3.0,...|       0|[2.53022318791758...|[0.92623360414370...|       0.0|\n",
      "|(7,[0,1,2],[28.0,...|       0|[2.00321996238140...|[0.88113473905752...|       0.0|\n",
      "|(7,[0,1,2],[33.0,...|       0|[2.18339552850482...|[0.89874848263248...|       0.0|\n",
      "+--------------------+--------+--------------------+--------------------+----------+\n",
      "only showing top 20 rows\n",
      "\n"
     ]
    }
   ],
   "source": [
    "pred_results.predictions.show()"
   ]
  },
  {
   "cell_type": "code",
   "execution_count": 174,
   "id": "84d68902",
   "metadata": {},
   "outputs": [],
   "source": [
    "from pyspark.ml.tuning import CrossValidator, ParamGridBuilder\n",
    "from pyspark.ml.evaluation import BinaryClassificationEvaluator\n",
    "from pyspark.mllib.evaluation import BinaryClassificationMetrics\n",
    "paramGrid = ParamGridBuilder() \\\n",
    "    .addGrid(lr.regParam, [0.1, 0.01]) \\\n",
    "    .build()"
   ]
  },
  {
   "cell_type": "code",
   "execution_count": 116,
   "id": "5e72171a",
   "metadata": {},
   "outputs": [
    {
     "name": "stdout",
     "output_type": "stream",
     "text": [
      "ERROR! Session/line number was not unique in database. History logging moved to new session 216\n"
     ]
    }
   ],
   "source": [
    "train_data = train_data.withColumnRenamed('Survived','label')"
   ]
  },
  {
   "cell_type": "code",
   "execution_count": 118,
   "id": "2732f035",
   "metadata": {},
   "outputs": [],
   "source": [
    "lr = LogisticRegression(featuresCol = 'Independent Features' ,labelCol ='label',maxIter=10)"
   ]
  },
  {
   "cell_type": "code",
   "execution_count": 119,
   "id": "16ee6a17",
   "metadata": {},
   "outputs": [],
   "source": [
    "crossval = CrossValidator(estimator=lr,\n",
    "                          estimatorParamMaps=paramGrid,\n",
    "                          evaluator=BinaryClassificationEvaluator(),\n",
    "                          numFolds=5)"
   ]
  },
  {
   "cell_type": "code",
   "execution_count": 120,
   "id": "526048eb",
   "metadata": {},
   "outputs": [],
   "source": [
    "cvModel = crossval.fit(train_data)"
   ]
  },
  {
   "cell_type": "code",
   "execution_count": 127,
   "id": "2f4a18eb",
   "metadata": {},
   "outputs": [],
   "source": [
    "test_data = test_data.withColumnRenamed('Survived','label')"
   ]
  },
  {
   "cell_type": "code",
   "execution_count": 189,
   "id": "c3c180ed",
   "metadata": {},
   "outputs": [],
   "source": [
    "prediction = cvModel.transform(test_data)"
   ]
  },
  {
   "cell_type": "code",
   "execution_count": 190,
   "id": "be3d37f2",
   "metadata": {},
   "outputs": [
    {
     "name": "stdout",
     "output_type": "stream",
     "text": [
      "+--------------------+-----+--------------------+--------------------+----------+\n",
      "|Independent Features|label|       rawPrediction|         probability|prediction|\n",
      "+--------------------+-----+--------------------+--------------------+----------+\n",
      "|[27.0,11.1333,3.0...|    1|[-0.3668042693597...|[0.40931344786226...|       1.0|\n",
      "|(7,[0,1,2],[28.0,...|    1|[0.92536492876745...|[0.71613398461274...|       0.0|\n",
      "|[19.0,263.0,1.0,0...|    0|[0.12951642476735...|[0.53233392003323...|       0.0|\n",
      "|[42.0,52.0,1.0,0....|    0|[0.65397852646490...|[0.65790645363909...|       0.0|\n",
      "|[28.0,7.2292,3.0,...|    1|[1.95264185019504...|[0.87573442307001...|       0.0|\n",
      "|[3.0,41.5792,2.0,...|    1|[-2.0469887772471...|[0.11435700237594...|       1.0|\n",
      "|(7,[0,1,2],[28.0,...|    0|[2.00321996238140...|[0.88113473905752...|       0.0|\n",
      "|[28.0,7.75,3.0,2....|    1|[-0.6531164518218...|[0.34228759606962...|       1.0|\n",
      "|[18.0,17.8,3.0,0....|    0|[-0.5298743263790...|[0.37054619988640...|       1.0|\n",
      "|[7.0,39.6875,3.0,...|    0|[2.90530657254254...|[0.94810813718863...|       0.0|\n",
      "|[49.0,76.7292,1.0...|    1|[-1.7821913722658...|[0.14403275487293...|       1.0|\n",
      "|[21.0,10.5,2.0,0....|    1|[-1.8714620945238...|[0.13337263664204...|       1.0|\n",
      "|[11.0,46.9,3.0,0....|    0|[3.55599109846830...|[0.97223958291773...|       0.0|\n",
      "|[17.0,7.925,3.0,0...|    1|[0.94576670595861...|[0.72026303201949...|       0.0|\n",
      "|[26.0,8.6625,3.0,...|    0|[2.76105081479763...|[0.94053443269262...|       0.0|\n",
      "|(7,[0,1,2],[28.0,...|    0|[2.00321996238140...|[0.88113473905752...|       0.0|\n",
      "|(7,[0,1,2],[24.0,...|    0|[1.85736936538496...|[0.86499003141241...|       0.0|\n",
      "|[26.0,20.575,3.0,...|    0|[2.53022318791758...|[0.92623360414370...|       0.0|\n",
      "|(7,[0,1,2],[28.0,...|    0|[2.00321996238140...|[0.88113473905752...|       0.0|\n",
      "|(7,[0,1,2],[33.0,...|    0|[2.18339552850482...|[0.89874848263248...|       0.0|\n",
      "+--------------------+-----+--------------------+--------------------+----------+\n",
      "only showing top 20 rows\n",
      "\n"
     ]
    }
   ],
   "source": [
    "prediction.show()"
   ]
  },
  {
   "cell_type": "code",
   "execution_count": 158,
   "id": "46e66272",
   "metadata": {},
   "outputs": [],
   "source": [
    "evaluator = BinaryClassificationEvaluator()"
   ]
  },
  {
   "cell_type": "code",
   "execution_count": 159,
   "id": "0d2ceadf",
   "metadata": {},
   "outputs": [
    {
     "name": "stderr",
     "output_type": "stream",
     "text": [
      "Exception ignored in: <function JavaModelWrapper.__del__ at 0x0000014FA8253400>\n",
      "Traceback (most recent call last):\n",
      "  File \"C:\\Users\\keldr\\AppData\\Local\\Packages\\PythonSoftwareFoundation.Python.3.10_qbz5n2kfra8p0\\LocalCache\\local-packages\\Python310\\site-packages\\pyspark\\mllib\\common.py\", line 152, in __del__\n",
      "    assert self._sc._gateway is not None\n",
      "AttributeError: 'BinaryClassificationMetrics' object has no attribute '_sc'\n",
      "Exception ignored in: <function JavaModelWrapper.__del__ at 0x0000014FA8253400>\n",
      "Traceback (most recent call last):\n",
      "  File \"C:\\Users\\keldr\\AppData\\Local\\Packages\\PythonSoftwareFoundation.Python.3.10_qbz5n2kfra8p0\\LocalCache\\local-packages\\Python310\\site-packages\\pyspark\\mllib\\common.py\", line 152, in __del__\n",
      "    assert self._sc._gateway is not None\n",
      "AttributeError: 'BinaryClassificationMetrics' object has no attribute '_sc'\n",
      "Exception ignored in: <function JavaModelWrapper.__del__ at 0x0000014FA8253400>\n",
      "Traceback (most recent call last):\n",
      "  File \"C:\\Users\\keldr\\AppData\\Local\\Packages\\PythonSoftwareFoundation.Python.3.10_qbz5n2kfra8p0\\LocalCache\\local-packages\\Python310\\site-packages\\pyspark\\mllib\\common.py\", line 152, in __del__\n",
      "    assert self._sc._gateway is not None\n",
      "AttributeError: 'BinaryClassificationMetrics' object has no attribute '_sc'\n"
     ]
    },
    {
     "name": "stdout",
     "output_type": "stream",
     "text": [
      "Test Area Under ROC: 0.861494252873564\n"
     ]
    }
   ],
   "source": [
    " print(\"Test Area Under ROC: \" + str(evaluator.evaluate(prediction , {evaluator.metricName: \"areaUnderROC\"})))"
   ]
  },
  {
   "cell_type": "code",
   "execution_count": 215,
   "id": "cf39eb01",
   "metadata": {},
   "outputs": [],
   "source": [
    "predictionAndLabels = prediction.rdd.map(lambda lp: (float(lp.prediction),lp.label))"
   ]
  },
  {
   "cell_type": "code",
   "execution_count": 194,
   "id": "179802b5",
   "metadata": {},
   "outputs": [],
   "source": [
    "metrics = BinaryClassificationMetrics(predictionAndLabels)"
   ]
  },
  {
   "cell_type": "code",
   "execution_count": 234,
   "id": "c4a8b5d3",
   "metadata": {},
   "outputs": [],
   "source": [
    "from sklearn.metrics import accuracy_score,f1_score,precision_score,recall_score"
   ]
  },
  {
   "cell_type": "code",
   "execution_count": 211,
   "id": "d67642bb",
   "metadata": {},
   "outputs": [
    {
     "data": {
      "text/plain": [
       "0.7816593886462883"
      ]
     },
     "execution_count": 211,
     "metadata": {},
     "output_type": "execute_result"
    }
   ],
   "source": [
    "accuracy_score(y_true = prediction.select('label').rdd.flatMap(lambda x: x).collect(),y_pred = prediction.select('prediction').rdd.flatMap(lambda x: x).collect())"
   ]
  },
  {
   "cell_type": "code",
   "execution_count": 235,
   "id": "bacc3a33",
   "metadata": {},
   "outputs": [
    {
     "data": {
      "text/plain": [
       "0.6987951807228916"
      ]
     },
     "execution_count": 235,
     "metadata": {},
     "output_type": "execute_result"
    }
   ],
   "source": [
    "f1_score(y_true = prediction.select('label').rdd.flatMap(lambda x: x).collect(),y_pred = prediction.select('prediction').rdd.flatMap(lambda x: x).collect())"
   ]
  },
  {
   "cell_type": "code",
   "execution_count": 236,
   "id": "20271439",
   "metadata": {},
   "outputs": [
    {
     "data": {
      "text/plain": [
       "0.6904761904761905"
      ]
     },
     "execution_count": 236,
     "metadata": {},
     "output_type": "execute_result"
    }
   ],
   "source": [
    "recall_score(y_true = prediction.select('label').rdd.flatMap(lambda x: x).collect(),y_pred = prediction.select('prediction').rdd.flatMap(lambda x: x).collect())"
   ]
  },
  {
   "cell_type": "code",
   "execution_count": 238,
   "id": "cfc1aa2c",
   "metadata": {},
   "outputs": [
    {
     "data": {
      "text/plain": [
       "0.7073170731707317"
      ]
     },
     "execution_count": 238,
     "metadata": {},
     "output_type": "execute_result"
    }
   ],
   "source": [
    "precision_score(y_true = prediction.select('label').rdd.flatMap(lambda x: x).collect(),y_pred = prediction.select('prediction').rdd.flatMap(lambda x: x).collect())"
   ]
  },
  {
   "cell_type": "code",
   "execution_count": null,
   "id": "cd46a39b",
   "metadata": {},
   "outputs": [],
   "source": []
  }
 ],
 "metadata": {
  "kernelspec": {
   "display_name": "Python 3 (ipykernel)",
   "language": "python",
   "name": "python3"
  },
  "language_info": {
   "codemirror_mode": {
    "name": "ipython",
    "version": 3
   },
   "file_extension": ".py",
   "mimetype": "text/x-python",
   "name": "python",
   "nbconvert_exporter": "python",
   "pygments_lexer": "ipython3",
   "version": "3.10.8"
  }
 },
 "nbformat": 4,
 "nbformat_minor": 5
}
